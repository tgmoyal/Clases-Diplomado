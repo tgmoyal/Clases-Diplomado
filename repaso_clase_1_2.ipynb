{
  "nbformat": 4,
  "nbformat_minor": 0,
  "metadata": {
    "colab": {
      "provenance": []
    },
    "kernelspec": {
      "name": "ir",
      "display_name": "R"
    },
    "language_info": {
      "name": "R"
    }
  },
  "cells": [
    {
      "cell_type": "markdown",
      "source": [
        "#Apuntes Varios\n",
        "\n",
        "##Consideraciones\n",
        "\n",
        "```\n",
        "1.   Para ejecutar: crtl+enter\n",
        "2.   Para limpiar variables: rm()\n",
        "3.   Para consultar por variable ?+variable, ej ?paste\n",
        "```\n"
      ],
      "metadata": {
        "id": "crl7uLoG7ET9"
      }
    },
    {
      "cell_type": "markdown",
      "source": [
        "##Funciones 1\n",
        "\n",
        "```\n",
        "- + , -, /,* ,^ , %%, %*%.\n",
        "- Logaritmo natural: log() \n",
        "- Funciones trigonométricas: sin() , cos(), tan(), asin() ,acos(), atan()\n",
        "- Función exponencial: exp() \n",
        "- Raiz cuadrada: sqrt().\n",
        "- Valor absoluto: abs()\n",
        "- parte entera: floor()\n",
        "- Truncar: trunc()\n",
        "- Redondear: round(,)\n",
        "- Factorial: factorial()\n",
        "- Número combinatorio: choose(n,k)\n",
        "\n",
        "```\n",
        "\n",
        "\n"
      ],
      "metadata": {
        "id": "eFjaRDKa7MTO"
      }
    },
    {
      "cell_type": "markdown",
      "source": [
        "#Variables y tipos de datos\n",
        "La variables se asignan con la función \"<-\". Algunos tipos de datos son:\n",
        "```\n",
        "integer   \n",
        "double  \n",
        "logical   \n",
        "character \n",
        "factor  \n",
        "date\n",
        "```\n",
        "\n"
      ],
      "metadata": {
        "id": "_uZjGJUd7m1v"
      }
    },
    {
      "cell_type": "markdown",
      "source": [
        "#Definición de Variables"
      ],
      "metadata": {
        "id": "cgsO-SMQ99FP"
      }
    },
    {
      "cell_type": "code",
      "source": [
        "#Definición de variables:La variables se asignan con la función \"<-\"\n",
        "#Ejemplos\n",
        "x <-1\n",
        "x\n",
        "x+1\n",
        "\n",
        "y <- \"Hola\"\n",
        "y\n",
        "\n",
        "z <- 5\n",
        "z\n",
        "\n",
        "frase1 <- \"Buenos días\"\n",
        "frase1"
      ],
      "metadata": {
        "colab": {
          "base_uri": "https://localhost:8080/",
          "height": 104
        },
        "id": "OeXB1ZX58mC9",
        "outputId": "20be0589-74f3-4e3f-ca9e-07d83fa83dda"
      },
      "execution_count": 3,
      "outputs": [
        {
          "output_type": "display_data",
          "data": {
            "text/html": [
              "1"
            ],
            "text/markdown": "1",
            "text/latex": "1",
            "text/plain": [
              "[1] 1"
            ]
          },
          "metadata": {}
        },
        {
          "output_type": "display_data",
          "data": {
            "text/html": [
              "2"
            ],
            "text/markdown": "2",
            "text/latex": "2",
            "text/plain": [
              "[1] 2"
            ]
          },
          "metadata": {}
        },
        {
          "output_type": "display_data",
          "data": {
            "text/html": [
              "'Hola'"
            ],
            "text/markdown": "'Hola'",
            "text/latex": "'Hola'",
            "text/plain": [
              "[1] \"Hola\""
            ]
          },
          "metadata": {}
        },
        {
          "output_type": "display_data",
          "data": {
            "text/html": [
              "5"
            ],
            "text/markdown": "5",
            "text/latex": "5",
            "text/plain": [
              "[1] 5"
            ]
          },
          "metadata": {}
        },
        {
          "output_type": "display_data",
          "data": {
            "text/html": [
              "'Buenos días'"
            ],
            "text/markdown": "'Buenos días'",
            "text/latex": "'Buenos días'",
            "text/plain": [
              "[1] \"Buenos días\""
            ]
          },
          "metadata": {}
        }
      ]
    },
    {
      "cell_type": "code",
      "source": [
        "# Una vez definidas las variables se pueden hacer operaciones entre ellas\n",
        "x+z\n",
        "\n",
        "#Para concatenar tenemos la función paste\n",
        "paste(x,y) #paste permite concatenar y por defecto lo realiza con espacio. Se puede definir separar por otro tipo de caracter:\n",
        "paste(x,y, sep=\"xxx\")\n",
        "#La función paste0 me permite concatenar, pero sin caracteres de separación\n",
        "paste0(x,y)\n",
        "paste0(x,y) ==paste(x,y, sep=\"\") # es lo mismo"
      ],
      "metadata": {
        "colab": {
          "base_uri": "https://localhost:8080/",
          "height": 104
        },
        "id": "0V78UXuuCA8r",
        "outputId": "b305d556-d79f-42f4-8111-0313c1bdceeb"
      },
      "execution_count": 4,
      "outputs": [
        {
          "output_type": "display_data",
          "data": {
            "text/html": [
              "6"
            ],
            "text/markdown": "6",
            "text/latex": "6",
            "text/plain": [
              "[1] 6"
            ]
          },
          "metadata": {}
        },
        {
          "output_type": "display_data",
          "data": {
            "text/html": [
              "'1 Hola'"
            ],
            "text/markdown": "'1 Hola'",
            "text/latex": "'1 Hola'",
            "text/plain": [
              "[1] \"1 Hola\""
            ]
          },
          "metadata": {}
        },
        {
          "output_type": "display_data",
          "data": {
            "text/html": [
              "'1xxxHola'"
            ],
            "text/markdown": "'1xxxHola'",
            "text/latex": "'1xxxHola'",
            "text/plain": [
              "[1] \"1xxxHola\""
            ]
          },
          "metadata": {}
        },
        {
          "output_type": "display_data",
          "data": {
            "text/html": [
              "'1Hola'"
            ],
            "text/markdown": "'1Hola'",
            "text/latex": "'1Hola'",
            "text/plain": [
              "[1] \"1Hola\""
            ]
          },
          "metadata": {}
        },
        {
          "output_type": "display_data",
          "data": {
            "text/html": [
              "TRUE"
            ],
            "text/markdown": "TRUE",
            "text/latex": "TRUE",
            "text/plain": [
              "[1] TRUE"
            ]
          },
          "metadata": {}
        }
      ]
    },
    {
      "cell_type": "markdown",
      "source": [
        "#Valores y Conectores Lógicos"
      ],
      "metadata": {
        "id": "f8S2ztAX9vl6"
      }
    },
    {
      "cell_type": "code",
      "source": [
        "#Valores Lógicos\n",
        "#TRUE # es igual a T\n",
        "#FALSE # es igual a F\n",
        "\n",
        "#Conectores logicos\n",
        "# \"&\" = \"y\" \n",
        "# \"|\" = \"o\"\n",
        "\n",
        "#Evaluar igualdad logica\n",
        "# \"==\" Igualdad \n",
        "# \"!=\" Desigualdad (Tambien sirve \"<>\")\n",
        "\n",
        "#Ejemplo:\n",
        "1+1==3\n",
        "5-2==3\n",
        "5!=5\n",
        "18>12\n",
        "\n",
        "\n"
      ],
      "metadata": {
        "colab": {
          "base_uri": "https://localhost:8080/",
          "height": 86
        },
        "id": "3elmgr209EPx",
        "outputId": "73891809-32a1-4c72-cdef-b5fc4446ed54"
      },
      "execution_count": 5,
      "outputs": [
        {
          "output_type": "display_data",
          "data": {
            "text/html": [
              "FALSE"
            ],
            "text/markdown": "FALSE",
            "text/latex": "FALSE",
            "text/plain": [
              "[1] FALSE"
            ]
          },
          "metadata": {}
        },
        {
          "output_type": "display_data",
          "data": {
            "text/html": [
              "TRUE"
            ],
            "text/markdown": "TRUE",
            "text/latex": "TRUE",
            "text/plain": [
              "[1] TRUE"
            ]
          },
          "metadata": {}
        },
        {
          "output_type": "display_data",
          "data": {
            "text/html": [
              "FALSE"
            ],
            "text/markdown": "FALSE",
            "text/latex": "FALSE",
            "text/plain": [
              "[1] FALSE"
            ]
          },
          "metadata": {}
        },
        {
          "output_type": "display_data",
          "data": {
            "text/html": [
              "TRUE"
            ],
            "text/markdown": "TRUE",
            "text/latex": "TRUE",
            "text/plain": [
              "[1] TRUE"
            ]
          },
          "metadata": {}
        }
      ]
    },
    {
      "cell_type": "code",
      "source": [
        "\n",
        "# Valores de ausencia o no definciión de variable: NA, NaN,Inf,-Inf (Son palabras reservadas)\n",
        "#Todo NaN es NA, pero no todo NA es NaN\n",
        "# NA: Not Available\n",
        "# NaN: Not a Number\n",
        "\n",
        "v1 <- NA\n",
        "v2 <- \"RM\"\n",
        "v3 <- NaN\n"
      ],
      "metadata": {
        "id": "gpxZ132qEEna"
      },
      "execution_count": 6,
      "outputs": []
    },
    {
      "cell_type": "code",
      "source": [
        "v2 == \"RM\"\n",
        "v2 == \"NA\"\n",
        "v1 == \"NA\"\n"
      ],
      "metadata": {
        "colab": {
          "base_uri": "https://localhost:8080/",
          "height": 69
        },
        "id": "md1Mfv1UKqsa",
        "outputId": "ab4cc360-873d-4840-88e5-6eb5d244ee46"
      },
      "execution_count": 7,
      "outputs": [
        {
          "output_type": "display_data",
          "data": {
            "text/html": [
              "TRUE"
            ],
            "text/markdown": "TRUE",
            "text/latex": "TRUE",
            "text/plain": [
              "[1] TRUE"
            ]
          },
          "metadata": {}
        },
        {
          "output_type": "display_data",
          "data": {
            "text/html": [
              "FALSE"
            ],
            "text/markdown": "FALSE",
            "text/latex": "FALSE",
            "text/plain": [
              "[1] FALSE"
            ]
          },
          "metadata": {}
        },
        {
          "output_type": "display_data",
          "data": {
            "text/html": [
              "&lt;NA&gt;"
            ],
            "text/markdown": "&lt;NA&gt;",
            "text/latex": "<NA>",
            "text/plain": [
              "[1] NA"
            ]
          },
          "metadata": {}
        }
      ]
    },
    {
      "cell_type": "code",
      "source": [
        "# NULL es la designación del vacio. No es tipo de dato, es nada.\n",
        "#z\n",
        "#x <- NULL\n",
        "\n",
        "x"
      ],
      "metadata": {
        "id": "SaAANm6GeX_K",
        "outputId": "d62406c4-7b77-40b3-d8be-2d0e8aabebd0",
        "colab": {
          "base_uri": "https://localhost:8080/",
          "height": 34
        }
      },
      "execution_count": 25,
      "outputs": [
        {
          "output_type": "display_data",
          "data": {
            "text/plain": [
              "NULL"
            ]
          },
          "metadata": {}
        }
      ]
    },
    {
      "cell_type": "code",
      "source": [
        "is.na(v2)\n",
        "is.na(v1)\n",
        "\n",
        "is.nan(v1)\n",
        "is.nan(v3)"
      ],
      "metadata": {
        "colab": {
          "base_uri": "https://localhost:8080/",
          "height": 86
        },
        "id": "dVer-bFCLE1V",
        "outputId": "5c49b557-d58f-4d22-ff6c-e0f6c668c1ee"
      },
      "execution_count": 9,
      "outputs": [
        {
          "output_type": "display_data",
          "data": {
            "text/html": [
              "FALSE"
            ],
            "text/markdown": "FALSE",
            "text/latex": "FALSE",
            "text/plain": [
              "[1] FALSE"
            ]
          },
          "metadata": {}
        },
        {
          "output_type": "display_data",
          "data": {
            "text/html": [
              "TRUE"
            ],
            "text/markdown": "TRUE",
            "text/latex": "TRUE",
            "text/plain": [
              "[1] TRUE"
            ]
          },
          "metadata": {}
        },
        {
          "output_type": "display_data",
          "data": {
            "text/html": [
              "FALSE"
            ],
            "text/markdown": "FALSE",
            "text/latex": "FALSE",
            "text/plain": [
              "[1] FALSE"
            ]
          },
          "metadata": {}
        },
        {
          "output_type": "display_data",
          "data": {
            "text/html": [
              "TRUE"
            ],
            "text/markdown": "TRUE",
            "text/latex": "TRUE",
            "text/plain": [
              "[1] TRUE"
            ]
          },
          "metadata": {}
        }
      ]
    },
    {
      "cell_type": "code",
      "source": [
        "#Si queremos preguntar negando anteponemos la negación \"!\"\n",
        "!is.na(v2)"
      ],
      "metadata": {
        "colab": {
          "base_uri": "https://localhost:8080/",
          "height": 34
        },
        "id": "DGo1wXALLpbn",
        "outputId": "0d28c9b9-1a4a-4349-868e-382c2ad0d069"
      },
      "execution_count": 10,
      "outputs": [
        {
          "output_type": "display_data",
          "data": {
            "text/html": [
              "TRUE"
            ],
            "text/markdown": "TRUE",
            "text/latex": "TRUE",
            "text/plain": [
              "[1] TRUE"
            ]
          },
          "metadata": {}
        }
      ]
    },
    {
      "cell_type": "code",
      "source": [
        "1000000000000000000000000000000000000000000 > Inf\n",
        "1/Inf\n",
        "\n",
        "0*Inf\n",
        "1/0\n",
        "0/0"
      ],
      "metadata": {
        "id": "hbPQElU-KS-u",
        "outputId": "5b767f0f-997c-41b8-aa92-ec0c2867f205",
        "colab": {
          "base_uri": "https://localhost:8080/",
          "height": 104
        }
      },
      "execution_count": 11,
      "outputs": [
        {
          "output_type": "display_data",
          "data": {
            "text/html": [
              "FALSE"
            ],
            "text/markdown": "FALSE",
            "text/latex": "FALSE",
            "text/plain": [
              "[1] FALSE"
            ]
          },
          "metadata": {}
        },
        {
          "output_type": "display_data",
          "data": {
            "text/html": [
              "0"
            ],
            "text/markdown": "0",
            "text/latex": "0",
            "text/plain": [
              "[1] 0"
            ]
          },
          "metadata": {}
        },
        {
          "output_type": "display_data",
          "data": {
            "text/html": [
              "NaN"
            ],
            "text/markdown": "NaN",
            "text/latex": "NaN",
            "text/plain": [
              "[1] NaN"
            ]
          },
          "metadata": {}
        },
        {
          "output_type": "display_data",
          "data": {
            "text/html": [
              "Inf"
            ],
            "text/markdown": "Inf",
            "text/latex": "Inf",
            "text/plain": [
              "[1] Inf"
            ]
          },
          "metadata": {}
        },
        {
          "output_type": "display_data",
          "data": {
            "text/html": [
              "NaN"
            ],
            "text/markdown": "NaN",
            "text/latex": "NaN",
            "text/plain": [
              "[1] NaN"
            ]
          },
          "metadata": {}
        }
      ]
    },
    {
      "cell_type": "code",
      "source": [
        "aux <- NA\n",
        "aux2 <- NaN\n",
        "aux3 <- NULL\n",
        "     \n",
        "\n",
        "aux\n",
        "aux2\n",
        "aux3"
      ],
      "metadata": {
        "colab": {
          "base_uri": "https://localhost:8080/",
          "height": 69
        },
        "id": "oT81vpF0FCpp",
        "outputId": "2ff17a8a-b918-46b7-e739-6d5cad9bbb2a"
      },
      "execution_count": 12,
      "outputs": [
        {
          "output_type": "display_data",
          "data": {
            "text/html": [
              "&lt;NA&gt;"
            ],
            "text/markdown": "&lt;NA&gt;",
            "text/latex": "<NA>",
            "text/plain": [
              "[1] NA"
            ]
          },
          "metadata": {}
        },
        {
          "output_type": "display_data",
          "data": {
            "text/html": [
              "NaN"
            ],
            "text/markdown": "NaN",
            "text/latex": "NaN",
            "text/plain": [
              "[1] NaN"
            ]
          },
          "metadata": {}
        },
        {
          "output_type": "display_data",
          "data": {
            "text/plain": [
              "NULL"
            ]
          },
          "metadata": {}
        }
      ]
    },
    {
      "cell_type": "code",
      "source": [],
      "metadata": {
        "id": "sVoHt-83fAu3"
      },
      "execution_count": null,
      "outputs": []
    },
    {
      "cell_type": "code",
      "source": [
        "#para consultar la clase de dato almacenado en una variable\n",
        "#class()\n",
        "#typeof()\n",
        "\n",
        "#Las asignaciones son por valor y no por referencia.\n",
        "\n",
        "class(x)\n",
        "class(y)"
      ],
      "metadata": {
        "colab": {
          "base_uri": "https://localhost:8080/",
          "height": 52
        },
        "id": "O3LX9uLqFS2I",
        "outputId": "0546daf6-dd0a-4ab8-8588-c1b578309e11"
      },
      "execution_count": 13,
      "outputs": [
        {
          "output_type": "display_data",
          "data": {
            "text/html": [
              "'numeric'"
            ],
            "text/markdown": "'numeric'",
            "text/latex": "'numeric'",
            "text/plain": [
              "[1] \"numeric\""
            ]
          },
          "metadata": {}
        },
        {
          "output_type": "display_data",
          "data": {
            "text/html": [
              "'character'"
            ],
            "text/markdown": "'character'",
            "text/latex": "'character'",
            "text/plain": [
              "[1] \"character\""
            ]
          },
          "metadata": {}
        }
      ]
    },
    {
      "cell_type": "code",
      "source": [
        "# ls() retorna vector con nombres de variables definidas en el ambiente\n",
        "\n",
        "\n",
        "ls()\n",
        "\n",
        "\n",
        "\n",
        "\n",
        "frase1 <- \"Buenos días\"\n",
        "\n"
      ],
      "metadata": {
        "colab": {
          "base_uri": "https://localhost:8080/",
          "height": 34
        },
        "id": "i5JCxLZp9ua7",
        "outputId": "b585a0bc-b418-463a-d434-71db8799da18"
      },
      "execution_count": 14,
      "outputs": [
        {
          "output_type": "display_data",
          "data": {
            "text/html": [
              "<style>\n",
              ".list-inline {list-style: none; margin:0; padding: 0}\n",
              ".list-inline>li {display: inline-block}\n",
              ".list-inline>li:not(:last-child)::after {content: \"\\00b7\"; padding: 0 .5ex}\n",
              "</style>\n",
              "<ol class=list-inline><li>'aux'</li><li>'aux2'</li><li>'aux3'</li><li>'frase1'</li><li>'v1'</li><li>'v2'</li><li>'v3'</li><li>'x'</li><li>'y'</li><li>'z'</li></ol>\n"
            ],
            "text/markdown": "1. 'aux'\n2. 'aux2'\n3. 'aux3'\n4. 'frase1'\n5. 'v1'\n6. 'v2'\n7. 'v3'\n8. 'x'\n9. 'y'\n10. 'z'\n\n\n",
            "text/latex": "\\begin{enumerate*}\n\\item 'aux'\n\\item 'aux2'\n\\item 'aux3'\n\\item 'frase1'\n\\item 'v1'\n\\item 'v2'\n\\item 'v3'\n\\item 'x'\n\\item 'y'\n\\item 'z'\n\\end{enumerate*}\n",
            "text/plain": [
              " [1] \"aux\"    \"aux2\"   \"aux3\"   \"frase1\" \"v1\"     \"v2\"     \"v3\"     \"x\"     \n",
              " [9] \"y\"      \"z\"     "
            ]
          },
          "metadata": {}
        }
      ]
    },
    {
      "cell_type": "code",
      "source": [
        "# rm() Para limpiar variables\n",
        "rm(frase1)\n"
      ],
      "metadata": {
        "id": "4odm4kpNBW6i"
      },
      "execution_count": null,
      "outputs": []
    },
    {
      "cell_type": "code",
      "source": [
        "# Si quiero borrar grupo de datos, puedo ingresar un vector con datos\n",
        "\n",
        "rm(list =c(\"aux\",\"x\"))\n"
      ],
      "metadata": {
        "id": "VIPtyh4MIzpY"
      },
      "execution_count": 15,
      "outputs": []
    },
    {
      "cell_type": "code",
      "source": [
        "#Verifico la anulación de la lista\n",
        "ls()"
      ],
      "metadata": {
        "colab": {
          "base_uri": "https://localhost:8080/",
          "height": 34
        },
        "id": "MLGQmUj0JZjo",
        "outputId": "9131cf74-75e7-471b-e03a-267896898647"
      },
      "execution_count": 16,
      "outputs": [
        {
          "output_type": "display_data",
          "data": {
            "text/html": [
              "<style>\n",
              ".list-inline {list-style: none; margin:0; padding: 0}\n",
              ".list-inline>li {display: inline-block}\n",
              ".list-inline>li:not(:last-child)::after {content: \"\\00b7\"; padding: 0 .5ex}\n",
              "</style>\n",
              "<ol class=list-inline><li>'aux2'</li><li>'aux3'</li><li>'frase1'</li><li>'v1'</li><li>'v2'</li><li>'v3'</li><li>'y'</li><li>'z'</li></ol>\n"
            ],
            "text/markdown": "1. 'aux2'\n2. 'aux3'\n3. 'frase1'\n4. 'v1'\n5. 'v2'\n6. 'v3'\n7. 'y'\n8. 'z'\n\n\n",
            "text/latex": "\\begin{enumerate*}\n\\item 'aux2'\n\\item 'aux3'\n\\item 'frase1'\n\\item 'v1'\n\\item 'v2'\n\\item 'v3'\n\\item 'y'\n\\item 'z'\n\\end{enumerate*}\n",
            "text/plain": [
              "[1] \"aux2\"   \"aux3\"   \"frase1\" \"v1\"     \"v2\"     \"v3\"     \"y\"      \"z\"     "
            ]
          },
          "metadata": {}
        }
      ]
    },
    {
      "cell_type": "code",
      "source": [
        "rm(list=c(\"v1\",\"v2\",\"v3\"))\n",
        "ls()"
      ],
      "metadata": {
        "id": "z4GHE397gRge",
        "outputId": "38bd6804-d3a6-45b5-c433-d4b45359feab",
        "colab": {
          "base_uri": "https://localhost:8080/",
          "height": 138
        }
      },
      "execution_count": 29,
      "outputs": [
        {
          "output_type": "stream",
          "name": "stderr",
          "text": [
            "Warning message in rm(list = c(\"v1\", \"v2\", \"v3\")):\n",
            "“object 'v1' not found”\n",
            "Warning message in rm(list = c(\"v1\", \"v2\", \"v3\")):\n",
            "“object 'v2' not found”\n",
            "Warning message in rm(list = c(\"v1\", \"v2\", \"v3\")):\n",
            "“object 'v3' not found”\n"
          ]
        },
        {
          "output_type": "display_data",
          "data": {
            "text/html": [
              "<style>\n",
              ".list-inline {list-style: none; margin:0; padding: 0}\n",
              ".list-inline>li {display: inline-block}\n",
              ".list-inline>li:not(:last-child)::after {content: \"\\00b7\"; padding: 0 .5ex}\n",
              "</style>\n",
              "<ol class=list-inline><li>'aux2'</li><li>'aux3'</li><li>'frase1'</li><li>'x'</li><li>'y'</li><li>'z'</li></ol>\n"
            ],
            "text/markdown": "1. 'aux2'\n2. 'aux3'\n3. 'frase1'\n4. 'x'\n5. 'y'\n6. 'z'\n\n\n",
            "text/latex": "\\begin{enumerate*}\n\\item 'aux2'\n\\item 'aux3'\n\\item 'frase1'\n\\item 'x'\n\\item 'y'\n\\item 'z'\n\\end{enumerate*}\n",
            "text/plain": [
              "[1] \"aux2\"   \"aux3\"   \"frase1\" \"x\"      \"y\"      \"z\"     "
            ]
          },
          "metadata": {}
        }
      ]
    },
    {
      "cell_type": "markdown",
      "source": [
        "#VECTORES\n"
      ],
      "metadata": {
        "id": "OOuKzzs7dyEC"
      }
    },
    {
      "cell_type": "code",
      "source": [],
      "metadata": {
        "id": "MrKzuoo0gQff"
      },
      "execution_count": null,
      "outputs": []
    },
    {
      "cell_type": "code",
      "source": [
        "#Los vectores se declaran anteponiendo la letra \"c\" , con componentes entre parentesis, separado por comas c(x,x,x,x)\n",
        "#Deben contener el mismo tipo de datos.\n",
        "v1 <- c(1,1,1,5,4,4)\n",
        "v2 <- c(10,20,30,40)\n",
        "v3 <- c(1:10)\n",
        "a1 <- c(\"Hola\",\"chao\",\"mañana\")\n",
        "a2 <- c(q=\"casa\", w=\"perro\")\n",
        "\n",
        "#Vectores Lógicos:\n",
        "l1 <-c(T,T,F,F,T)"
      ],
      "metadata": {
        "id": "vw7aIi7_fyIb"
      },
      "execution_count": 31,
      "outputs": []
    },
    {
      "cell_type": "code",
      "source": [
        "ls()"
      ],
      "metadata": {
        "id": "Lg8iNOSeha6t",
        "outputId": "49b72418-caa8-45fb-b6ae-da628a92c111",
        "colab": {
          "base_uri": "https://localhost:8080/",
          "height": 34
        }
      },
      "execution_count": 32,
      "outputs": [
        {
          "output_type": "display_data",
          "data": {
            "text/html": [
              "<style>\n",
              ".list-inline {list-style: none; margin:0; padding: 0}\n",
              ".list-inline>li {display: inline-block}\n",
              ".list-inline>li:not(:last-child)::after {content: \"\\00b7\"; padding: 0 .5ex}\n",
              "</style>\n",
              "<ol class=list-inline><li>'a1'</li><li>'a2'</li><li>'aux2'</li><li>'aux3'</li><li>'frase1'</li><li>'l1'</li><li>'v1'</li><li>'v2'</li><li>'v3'</li><li>'x'</li><li>'y'</li><li>'z'</li></ol>\n"
            ],
            "text/markdown": "1. 'a1'\n2. 'a2'\n3. 'aux2'\n4. 'aux3'\n5. 'frase1'\n6. 'l1'\n7. 'v1'\n8. 'v2'\n9. 'v3'\n10. 'x'\n11. 'y'\n12. 'z'\n\n\n",
            "text/latex": "\\begin{enumerate*}\n\\item 'a1'\n\\item 'a2'\n\\item 'aux2'\n\\item 'aux3'\n\\item 'frase1'\n\\item 'l1'\n\\item 'v1'\n\\item 'v2'\n\\item 'v3'\n\\item 'x'\n\\item 'y'\n\\item 'z'\n\\end{enumerate*}\n",
            "text/plain": [
              " [1] \"a1\"     \"a2\"     \"aux2\"   \"aux3\"   \"frase1\" \"l1\"     \"v1\"     \"v2\"    \n",
              " [9] \"v3\"     \"x\"      \"y\"      \"z\"     "
            ]
          },
          "metadata": {}
        }
      ]
    },
    {
      "cell_type": "code",
      "source": [
        "v1\n",
        "a2\n"
      ],
      "metadata": {
        "id": "0ZB3gAZfhnJU",
        "outputId": "23ef7bda-fc69-4846-aaeb-142fe83844c4",
        "colab": {
          "base_uri": "https://localhost:8080/",
          "height": 52
        }
      },
      "execution_count": 34,
      "outputs": [
        {
          "output_type": "display_data",
          "data": {
            "text/html": [
              "<style>\n",
              ".list-inline {list-style: none; margin:0; padding: 0}\n",
              ".list-inline>li {display: inline-block}\n",
              ".list-inline>li:not(:last-child)::after {content: \"\\00b7\"; padding: 0 .5ex}\n",
              "</style>\n",
              "<ol class=list-inline><li>1</li><li>1</li><li>1</li><li>5</li><li>4</li><li>4</li></ol>\n"
            ],
            "text/markdown": "1. 1\n2. 1\n3. 1\n4. 5\n5. 4\n6. 4\n\n\n",
            "text/latex": "\\begin{enumerate*}\n\\item 1\n\\item 1\n\\item 1\n\\item 5\n\\item 4\n\\item 4\n\\end{enumerate*}\n",
            "text/plain": [
              "[1] 1 1 1 5 4 4"
            ]
          },
          "metadata": {}
        },
        {
          "output_type": "display_data",
          "data": {
            "text/html": [
              "<style>\n",
              ".dl-inline {width: auto; margin:0; padding: 0}\n",
              ".dl-inline>dt, .dl-inline>dd {float: none; width: auto; display: inline-block}\n",
              ".dl-inline>dt::after {content: \":\\0020\"; padding-right: .5ex}\n",
              ".dl-inline>dt:not(:first-of-type) {padding-left: .5ex}\n",
              "</style><dl class=dl-inline><dt>q</dt><dd>'casa'</dd><dt>w</dt><dd>'perro'</dd></dl>\n"
            ],
            "text/markdown": "q\n:   'casa'w\n:   'perro'\n\n",
            "text/latex": "\\begin{description*}\n\\item[q] 'casa'\n\\item[w] 'perro'\n\\end{description*}\n",
            "text/plain": [
              "      q       w \n",
              " \"casa\" \"perro\" "
            ]
          },
          "metadata": {}
        }
      ]
    }
  ]
}